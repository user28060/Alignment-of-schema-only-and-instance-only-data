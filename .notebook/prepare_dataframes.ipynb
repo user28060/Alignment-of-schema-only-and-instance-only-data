{
 "cells": [
  {
   "cell_type": "code",
   "execution_count": 69,
   "metadata": {},
   "outputs": [],
   "source": [
    "import pandas as pd\n",
    "import os"
   ]
  },
  {
   "cell_type": "code",
   "execution_count": 70,
   "metadata": {},
   "outputs": [],
   "source": [
    "path= os.getcwd().split('/')\n",
    "i=path.index('Alignment-of-schema-only-and-instance-only-data')\n",
    "folder_path= \"/\".join(path[:i+1])\n",
    "\n",
    "llama_ndcg=pd.read_csv(folder_path+\"/Results_Experiments/llama_results/llama_with_time.csv\")\n",
    "gpt_ndcg=pd.read_csv(folder_path+\"/Results_Experiments/GPT_results/gpt_with_time.csv\")\n"
   ]
  },
  {
   "cell_type": "code",
   "execution_count": 71,
   "metadata": {},
   "outputs": [
    {
     "data": {
      "text/plain": [
       "Index(['Category', 'Relation', 'Dataset', 'models', 'f1_score', 'Precision',\n",
       "       'Recall', 'Execution_Time'],\n",
       "      dtype='object')"
      ]
     },
     "execution_count": 71,
     "metadata": {},
     "output_type": "execute_result"
    }
   ],
   "source": [
    "ChEMBL=pd.read_csv(\"/Users/nourkired/Documents/Code/schema-matching/data_out_gpt/ChEMBL.csv\")\n",
    "Wikidata=pd.read_csv(\"/Users/nourkired/Documents/Code/schema-matching/data_out_gpt/Wikidata.csv\")\n",
    "Magellan=pd.read_csv(\"/Users/nourkired/Documents/Code/schema-matching/data_out_gpt/Magellan.csv\")\n",
    "TPC_DI=pd.read_csv(\"/Users/nourkired/Documents/Code/schema-matching/data_out_gpt/TPC-DI.csv\")\n",
    "\n",
    "\n",
    "gpt_f1=pd.concat([ChEMBL, Wikidata, Magellan, TPC_DI],axis=0)\n",
    "gpt_f1.columns"
   ]
  },
  {
   "cell_type": "code",
   "execution_count": 72,
   "metadata": {},
   "outputs": [
    {
     "data": {
      "text/plain": [
       "(180.73185886256684, 180.73185886256684)"
      ]
     },
     "execution_count": 72,
     "metadata": {},
     "output_type": "execute_result"
    }
   ],
   "source": [
    "gpt=pd.merge(gpt_f1,gpt_ndcg,left_on=[\"models\",\"Category\",\"Dataset\",\"Relation\"],right_on=['Model', 'Category', 'Dataset Name','Relation Type'])\n",
    "gpt.Execution_Time_x.mean(),gpt.Execution_Time_y.mean()"
   ]
  },
  {
   "cell_type": "code",
   "execution_count": 73,
   "metadata": {},
   "outputs": [],
   "source": [
    "gpt.columns=['Category', 'Relation', 'Dataset', 'models', 'f1_score', 'Precision',\n",
    "       'Recall', 'Execution_Time', 'Model', 'Dataset Name', 'noise',\n",
    "       'models_y', 'Relation Type', 'Relation_binaire',\n",
    "       'Source 1 Attribute Count', 'Source 2 Attribute Count',\n",
    "       'Common Attribute Count', 'pourcentage_commun', 'Precision Median',\n",
    "       'Recall Median', 'F1 Score Median', 'ngcd_at_median',\n",
    "       'Precision (Top n%)', 'Recall (Top n%)', 'F1 Score (Top n%)',\n",
    "       'ngcd_at_n', 'Precision (Top 2n%)', 'Recall (Top 2n%)',\n",
    "       'F1 Score (Top 2n%)', 'ngcd_at_2n', 'F1 Score (Top 25)', 'ngcd_at_25',\n",
    "       'F1 Score (Top 20)', 'ngcd_at_20', 'F1 Score (Top 15)', 'ngcd_at_15',\n",
    "       'F1 Score (Top 10)', 'ngcd_at_10', 'F1 Score (Top 7)', 'ngcd_at_7',\n",
    "       'F1 Score (Top 5)', 'ngcd_at_5', 'Execution_Time_y']"
   ]
  },
  {
   "cell_type": "code",
   "execution_count": 85,
   "metadata": {},
   "outputs": [
    {
     "data": {
      "text/html": [
       "<div>\n",
       "<style scoped>\n",
       "    .dataframe tbody tr th:only-of-type {\n",
       "        vertical-align: middle;\n",
       "    }\n",
       "\n",
       "    .dataframe tbody tr th {\n",
       "        vertical-align: top;\n",
       "    }\n",
       "\n",
       "    .dataframe thead tr th {\n",
       "        text-align: left;\n",
       "    }\n",
       "\n",
       "    .dataframe thead tr:last-of-type th {\n",
       "        text-align: right;\n",
       "    }\n",
       "</style>\n",
       "<table border=\"1\" class=\"dataframe\">\n",
       "  <thead>\n",
       "    <tr>\n",
       "      <th></th>\n",
       "      <th colspan=\"2\" halign=\"left\">f1_score</th>\n",
       "    </tr>\n",
       "    <tr>\n",
       "      <th></th>\n",
       "      <th>mean</th>\n",
       "      <th>std</th>\n",
       "    </tr>\n",
       "    <tr>\n",
       "      <th>models</th>\n",
       "      <th></th>\n",
       "      <th></th>\n",
       "    </tr>\n",
       "  </thead>\n",
       "  <tbody>\n",
       "    <tr>\n",
       "      <th>albert-base-v2</th>\n",
       "      <td>0.52</td>\n",
       "      <td>0.29</td>\n",
       "    </tr>\n",
       "    <tr>\n",
       "      <th>bert-base-uncased</th>\n",
       "      <td>0.54</td>\n",
       "      <td>0.29</td>\n",
       "    </tr>\n",
       "    <tr>\n",
       "      <th>distilbert-base-uncased</th>\n",
       "      <td>0.54</td>\n",
       "      <td>0.28</td>\n",
       "    </tr>\n",
       "    <tr>\n",
       "      <th>facebook/bart-base</th>\n",
       "      <td>0.52</td>\n",
       "      <td>0.29</td>\n",
       "    </tr>\n",
       "    <tr>\n",
       "      <th>gpt</th>\n",
       "      <td>0.58</td>\n",
       "      <td>0.26</td>\n",
       "    </tr>\n",
       "    <tr>\n",
       "      <th>roberta-base</th>\n",
       "      <td>0.53</td>\n",
       "      <td>0.26</td>\n",
       "    </tr>\n",
       "    <tr>\n",
       "      <th>sentence-transformers/all-MiniLM-L6-v2</th>\n",
       "      <td>0.54</td>\n",
       "      <td>0.27</td>\n",
       "    </tr>\n",
       "  </tbody>\n",
       "</table>\n",
       "</div>"
      ],
      "text/plain": [
       "                                       f1_score      \n",
       "                                           mean   std\n",
       "models                                               \n",
       "albert-base-v2                             0.52  0.29\n",
       "bert-base-uncased                          0.54  0.29\n",
       "distilbert-base-uncased                    0.54  0.28\n",
       "facebook/bart-base                         0.52  0.29\n",
       "gpt                                        0.58  0.26\n",
       "roberta-base                               0.53  0.26\n",
       "sentence-transformers/all-MiniLM-L6-v2     0.54  0.27"
      ]
     },
     "execution_count": 85,
     "metadata": {},
     "output_type": "execute_result"
    }
   ],
   "source": [
    "gpt.groupby([\"models\"])[['f1_score']].agg(['mean', 'std']).round(2)"
   ]
  },
  {
   "cell_type": "markdown",
   "metadata": {},
   "source": [
    "##  Llama"
   ]
  },
  {
   "cell_type": "code",
   "execution_count": 75,
   "metadata": {},
   "outputs": [
    {
     "data": {
      "text/plain": [
       "Index(['Category', 'Relation', 'Dataset', 'models', 'f1_score', 'Precision',\n",
       "       'Recall', 'Execution_Time'],\n",
       "      dtype='object')"
      ]
     },
     "execution_count": 75,
     "metadata": {},
     "output_type": "execute_result"
    }
   ],
   "source": [
    "ChEMBL=pd.read_csv(\"/Users/nourkired/Documents/Code/schema-matching-llama/ChEMBL.csv\")\n",
    "Wikidata=pd.read_csv(\"/Users/nourkired/Documents/Code/schema-matching-llama/Wikidata.csv\")\n",
    "Magellan=pd.read_csv(\"/Users/nourkired/Documents/Code/schema-matching-llama/Magellan.csv\")\n",
    "TPC_DI=pd.read_csv(\"/Users/nourkired/Documents/Code/schema-matching-llama/TPC-DI.csv\")\n",
    "\n",
    "llama_f1=pd.concat([ChEMBL, Wikidata, Magellan, TPC_DI],axis=0)\n",
    "llama_f1.columns"
   ]
  },
  {
   "cell_type": "code",
   "execution_count": 76,
   "metadata": {},
   "outputs": [],
   "source": [
    "llama=pd.merge(llama_f1,llama_ndcg,left_on=[\"models\",\"Category\",\"Dataset\",\"Relation\"],right_on=['Model', 'Category', 'Dataset','Relation'])\n",
    "llama.Execution_Time_x.mean(),llama.Execution_Time_y.mean()\n",
    "llama.columns=['Category', 'Relation', 'Dataset', 'models', 'f1_score',\n",
    "       'Precision', 'Recall', 'Execution_Time', 'Model', 'models_y',\n",
    "       'f1_score_y', 'Precision_y', 'Recall_y', 'Noise_Level',\n",
    "       'Attributes_Source1', 'Attributes_Source2', 'Common_Attributes',\n",
    "       'pourcentage_commun', 'Relation_binaire', 'F1 Score Median',\n",
    "       'NDCG at Median', 'Dataset.1', 'Model.1', 'Category.1', 'Relation.1',\n",
    "       'models.1', 'f1_score.1', 'Precision.1', 'Recall.1', 'Execution_Time_y',\n",
    "       'Noise_Level.1', 'Attributes_Source1.1', 'Attributes_Source2.1',\n",
    "       'Common_Attributes.1', 'pourcentage_commun.1', 'Relation_binaire.1',\n",
    "       'F1 Score Median.1', 'NDCG at Median.1']"
   ]
  },
  {
   "cell_type": "code",
   "execution_count": 78,
   "metadata": {},
   "outputs": [
    {
     "data": {
      "text/html": [
       "<div>\n",
       "<style scoped>\n",
       "    .dataframe tbody tr th:only-of-type {\n",
       "        vertical-align: middle;\n",
       "    }\n",
       "\n",
       "    .dataframe tbody tr th {\n",
       "        vertical-align: top;\n",
       "    }\n",
       "\n",
       "    .dataframe thead tr th {\n",
       "        text-align: left;\n",
       "    }\n",
       "\n",
       "    .dataframe thead tr:last-of-type th {\n",
       "        text-align: right;\n",
       "    }\n",
       "</style>\n",
       "<table border=\"1\" class=\"dataframe\">\n",
       "  <thead>\n",
       "    <tr>\n",
       "      <th></th>\n",
       "      <th colspan=\"2\" halign=\"left\">f1_score</th>\n",
       "    </tr>\n",
       "    <tr>\n",
       "      <th></th>\n",
       "      <th>mean</th>\n",
       "      <th>std</th>\n",
       "    </tr>\n",
       "    <tr>\n",
       "      <th>models</th>\n",
       "      <th></th>\n",
       "      <th></th>\n",
       "    </tr>\n",
       "  </thead>\n",
       "  <tbody>\n",
       "    <tr>\n",
       "      <th>albert-base-v2</th>\n",
       "      <td>0.48</td>\n",
       "      <td>0.25</td>\n",
       "    </tr>\n",
       "    <tr>\n",
       "      <th>bert-base-uncased</th>\n",
       "      <td>0.47</td>\n",
       "      <td>0.25</td>\n",
       "    </tr>\n",
       "    <tr>\n",
       "      <th>distilbert-base-uncased</th>\n",
       "      <td>0.46</td>\n",
       "      <td>0.26</td>\n",
       "    </tr>\n",
       "    <tr>\n",
       "      <th>facebook/bart-base</th>\n",
       "      <td>0.42</td>\n",
       "      <td>0.23</td>\n",
       "    </tr>\n",
       "    <tr>\n",
       "      <th>gpt</th>\n",
       "      <td>0.50</td>\n",
       "      <td>0.25</td>\n",
       "    </tr>\n",
       "    <tr>\n",
       "      <th>roberta-base</th>\n",
       "      <td>0.43</td>\n",
       "      <td>0.25</td>\n",
       "    </tr>\n",
       "    <tr>\n",
       "      <th>sentence-transformers/all-MiniLM-L6-v2</th>\n",
       "      <td>0.45</td>\n",
       "      <td>0.25</td>\n",
       "    </tr>\n",
       "  </tbody>\n",
       "</table>\n",
       "</div>"
      ],
      "text/plain": [
       "                                       f1_score      \n",
       "                                           mean   std\n",
       "models                                               \n",
       "albert-base-v2                             0.48  0.25\n",
       "bert-base-uncased                          0.47  0.25\n",
       "distilbert-base-uncased                    0.46  0.26\n",
       "facebook/bart-base                         0.42  0.23\n",
       "gpt                                        0.50  0.25\n",
       "roberta-base                               0.43  0.25\n",
       "sentence-transformers/all-MiniLM-L6-v2     0.45  0.25"
      ]
     },
     "execution_count": 78,
     "metadata": {},
     "output_type": "execute_result"
    }
   ],
   "source": [
    "llama.groupby([\"models\"])[['f1_score']].agg(['mean', 'std']).round(2)"
   ]
  },
  {
   "cell_type": "code",
   "execution_count": 86,
   "metadata": {},
   "outputs": [
    {
     "data": {
      "text/html": [
       "<div>\n",
       "<style scoped>\n",
       "    .dataframe tbody tr th:only-of-type {\n",
       "        vertical-align: middle;\n",
       "    }\n",
       "\n",
       "    .dataframe tbody tr th {\n",
       "        vertical-align: top;\n",
       "    }\n",
       "\n",
       "    .dataframe thead th {\n",
       "        text-align: right;\n",
       "    }\n",
       "</style>\n",
       "<table border=\"1\" class=\"dataframe\">\n",
       "  <thead>\n",
       "    <tr style=\"text-align: right;\">\n",
       "      <th></th>\n",
       "      <th>Execution_Time</th>\n",
       "    </tr>\n",
       "    <tr>\n",
       "      <th>models</th>\n",
       "      <th></th>\n",
       "    </tr>\n",
       "  </thead>\n",
       "  <tbody>\n",
       "    <tr>\n",
       "      <th>sentence-transformers/all-MiniLM-L6-v2</th>\n",
       "      <td>65.67</td>\n",
       "    </tr>\n",
       "    <tr>\n",
       "      <th>albert-base-v2</th>\n",
       "      <td>82.11</td>\n",
       "    </tr>\n",
       "    <tr>\n",
       "      <th>gpt</th>\n",
       "      <td>101.80</td>\n",
       "    </tr>\n",
       "    <tr>\n",
       "      <th>distilbert-base-uncased</th>\n",
       "      <td>107.82</td>\n",
       "    </tr>\n",
       "    <tr>\n",
       "      <th>bert-base-uncased</th>\n",
       "      <td>166.94</td>\n",
       "    </tr>\n",
       "    <tr>\n",
       "      <th>roberta-base</th>\n",
       "      <td>177.49</td>\n",
       "    </tr>\n",
       "    <tr>\n",
       "      <th>facebook/bart-base</th>\n",
       "      <td>305.62</td>\n",
       "    </tr>\n",
       "  </tbody>\n",
       "</table>\n",
       "</div>"
      ],
      "text/plain": [
       "                                        Execution_Time\n",
       "models                                                \n",
       "sentence-transformers/all-MiniLM-L6-v2           65.67\n",
       "albert-base-v2                                   82.11\n",
       "gpt                                             101.80\n",
       "distilbert-base-uncased                         107.82\n",
       "bert-base-uncased                               166.94\n",
       "roberta-base                                    177.49\n",
       "facebook/bart-base                              305.62"
      ]
     },
     "execution_count": 86,
     "metadata": {},
     "output_type": "execute_result"
    }
   ],
   "source": [
    "avg_execution_time = pd.DataFrame(llama.groupby(\"models\")[\"Execution_Time\"].mean().sort_values()).round(2)\n",
    "avg_execution_time"
   ]
  },
  {
   "cell_type": "code",
   "execution_count": 87,
   "metadata": {},
   "outputs": [
    {
     "data": {
      "text/html": [
       "<div>\n",
       "<style scoped>\n",
       "    .dataframe tbody tr th:only-of-type {\n",
       "        vertical-align: middle;\n",
       "    }\n",
       "\n",
       "    .dataframe tbody tr th {\n",
       "        vertical-align: top;\n",
       "    }\n",
       "\n",
       "    .dataframe thead th {\n",
       "        text-align: right;\n",
       "    }\n",
       "</style>\n",
       "<table border=\"1\" class=\"dataframe\">\n",
       "  <thead>\n",
       "    <tr style=\"text-align: right;\">\n",
       "      <th></th>\n",
       "      <th>Execution_Time</th>\n",
       "    </tr>\n",
       "    <tr>\n",
       "      <th>models</th>\n",
       "      <th></th>\n",
       "    </tr>\n",
       "  </thead>\n",
       "  <tbody>\n",
       "    <tr>\n",
       "      <th>sentence-transformers/all-MiniLM-L6-v2</th>\n",
       "      <td>68.77</td>\n",
       "    </tr>\n",
       "    <tr>\n",
       "      <th>distilbert-base-uncased</th>\n",
       "      <td>104.65</td>\n",
       "    </tr>\n",
       "    <tr>\n",
       "      <th>albert-base-v2</th>\n",
       "      <td>150.72</td>\n",
       "    </tr>\n",
       "    <tr>\n",
       "      <th>bert-base-uncased</th>\n",
       "      <td>151.94</td>\n",
       "    </tr>\n",
       "    <tr>\n",
       "      <th>roberta-base</th>\n",
       "      <td>174.82</td>\n",
       "    </tr>\n",
       "    <tr>\n",
       "      <th>gpt</th>\n",
       "      <td>181.51</td>\n",
       "    </tr>\n",
       "    <tr>\n",
       "      <th>facebook/bart-base</th>\n",
       "      <td>432.64</td>\n",
       "    </tr>\n",
       "  </tbody>\n",
       "</table>\n",
       "</div>"
      ],
      "text/plain": [
       "                                        Execution_Time\n",
       "models                                                \n",
       "sentence-transformers/all-MiniLM-L6-v2           68.77\n",
       "distilbert-base-uncased                         104.65\n",
       "albert-base-v2                                  150.72\n",
       "bert-base-uncased                               151.94\n",
       "roberta-base                                    174.82\n",
       "gpt                                             181.51\n",
       "facebook/bart-base                              432.64"
      ]
     },
     "execution_count": 87,
     "metadata": {},
     "output_type": "execute_result"
    }
   ],
   "source": [
    "avg_execution_time = pd.DataFrame(gpt.groupby(\"models\")[\"Execution_Time\"].mean().sort_values()).round(2)\n",
    "avg_execution_time"
   ]
  },
  {
   "cell_type": "code",
   "execution_count": 79,
   "metadata": {},
   "outputs": [
    {
     "data": {
      "text/html": [
       "<div>\n",
       "<style scoped>\n",
       "    .dataframe tbody tr th:only-of-type {\n",
       "        vertical-align: middle;\n",
       "    }\n",
       "\n",
       "    .dataframe tbody tr th {\n",
       "        vertical-align: top;\n",
       "    }\n",
       "\n",
       "    .dataframe thead th {\n",
       "        text-align: right;\n",
       "    }\n",
       "</style>\n",
       "<table border=\"1\" class=\"dataframe\">\n",
       "  <thead>\n",
       "    <tr style=\"text-align: right;\">\n",
       "      <th></th>\n",
       "      <th>Execution_Time</th>\n",
       "    </tr>\n",
       "    <tr>\n",
       "      <th>Category</th>\n",
       "      <th></th>\n",
       "    </tr>\n",
       "  </thead>\n",
       "  <tbody>\n",
       "    <tr>\n",
       "      <th>Magellan</th>\n",
       "      <td>76.75</td>\n",
       "    </tr>\n",
       "    <tr>\n",
       "      <th>ChEMBL</th>\n",
       "      <td>128.34</td>\n",
       "    </tr>\n",
       "    <tr>\n",
       "      <th>TPC-DI</th>\n",
       "      <td>144.89</td>\n",
       "    </tr>\n",
       "    <tr>\n",
       "      <th>Wikidata</th>\n",
       "      <td>930.10</td>\n",
       "    </tr>\n",
       "  </tbody>\n",
       "</table>\n",
       "</div>"
      ],
      "text/plain": [
       "          Execution_Time\n",
       "Category                \n",
       "Magellan           76.75\n",
       "ChEMBL            128.34\n",
       "TPC-DI            144.89\n",
       "Wikidata          930.10"
      ]
     },
     "execution_count": 79,
     "metadata": {},
     "output_type": "execute_result"
    }
   ],
   "source": [
    "avg_execution_time = pd.DataFrame(llama.groupby(\"Category\")[\"Execution_Time\"].mean().sort_values()).round(2)\n",
    "avg_execution_time"
   ]
  },
  {
   "cell_type": "code",
   "execution_count": 80,
   "metadata": {},
   "outputs": [
    {
     "data": {
      "text/html": [
       "<div>\n",
       "<style scoped>\n",
       "    .dataframe tbody tr th:only-of-type {\n",
       "        vertical-align: middle;\n",
       "    }\n",
       "\n",
       "    .dataframe tbody tr th {\n",
       "        vertical-align: top;\n",
       "    }\n",
       "\n",
       "    .dataframe thead th {\n",
       "        text-align: right;\n",
       "    }\n",
       "</style>\n",
       "<table border=\"1\" class=\"dataframe\">\n",
       "  <thead>\n",
       "    <tr style=\"text-align: right;\">\n",
       "      <th></th>\n",
       "      <th>Execution_Time</th>\n",
       "    </tr>\n",
       "    <tr>\n",
       "      <th>Category</th>\n",
       "      <th></th>\n",
       "    </tr>\n",
       "  </thead>\n",
       "  <tbody>\n",
       "    <tr>\n",
       "      <th>Magellan</th>\n",
       "      <td>116.60</td>\n",
       "    </tr>\n",
       "    <tr>\n",
       "      <th>TPC-DI</th>\n",
       "      <td>139.84</td>\n",
       "    </tr>\n",
       "    <tr>\n",
       "      <th>ChEMBL</th>\n",
       "      <td>212.89</td>\n",
       "    </tr>\n",
       "    <tr>\n",
       "      <th>Wikidata</th>\n",
       "      <td>704.90</td>\n",
       "    </tr>\n",
       "  </tbody>\n",
       "</table>\n",
       "</div>"
      ],
      "text/plain": [
       "          Execution_Time\n",
       "Category                \n",
       "Magellan          116.60\n",
       "TPC-DI            139.84\n",
       "ChEMBL            212.89\n",
       "Wikidata          704.90"
      ]
     },
     "execution_count": 80,
     "metadata": {},
     "output_type": "execute_result"
    }
   ],
   "source": [
    "avg_execution_time = pd.DataFrame(gpt.groupby(\"Category\")[\"Execution_Time\"].mean().sort_values()).round(2)\n",
    "avg_execution_time"
   ]
  },
  {
   "cell_type": "code",
   "execution_count": 88,
   "metadata": {},
   "outputs": [
    {
     "data": {
      "text/html": [
       "<div>\n",
       "<style scoped>\n",
       "    .dataframe tbody tr th:only-of-type {\n",
       "        vertical-align: middle;\n",
       "    }\n",
       "\n",
       "    .dataframe tbody tr th {\n",
       "        vertical-align: top;\n",
       "    }\n",
       "\n",
       "    .dataframe thead th {\n",
       "        text-align: right;\n",
       "    }\n",
       "</style>\n",
       "<table border=\"1\" class=\"dataframe\">\n",
       "  <thead>\n",
       "    <tr style=\"text-align: right;\">\n",
       "      <th></th>\n",
       "      <th>Execution_Time</th>\n",
       "    </tr>\n",
       "    <tr>\n",
       "      <th>Dataset</th>\n",
       "      <th></th>\n",
       "    </tr>\n",
       "  </thead>\n",
       "  <tbody>\n",
       "    <tr>\n",
       "      <th>amazon_google_exp</th>\n",
       "      <td>13.26</td>\n",
       "    </tr>\n",
       "    <tr>\n",
       "      <th>beeradvo_ratebeer</th>\n",
       "      <td>21.08</td>\n",
       "    </tr>\n",
       "    <tr>\n",
       "      <th>dblp_acm</th>\n",
       "      <td>25.95</td>\n",
       "    </tr>\n",
       "    <tr>\n",
       "      <th>dblp_scholar</th>\n",
       "      <td>37.54</td>\n",
       "    </tr>\n",
       "    <tr>\n",
       "      <th>walmart_amazon</th>\n",
       "      <td>41.60</td>\n",
       "    </tr>\n",
       "    <tr>\n",
       "      <th>fodors_zagats</th>\n",
       "      <td>56.50</td>\n",
       "    </tr>\n",
       "    <tr>\n",
       "      <th>itunes_amazon</th>\n",
       "      <td>149.95</td>\n",
       "    </tr>\n",
       "  </tbody>\n",
       "</table>\n",
       "</div>"
      ],
      "text/plain": [
       "                   Execution_Time\n",
       "Dataset                          \n",
       "amazon_google_exp           13.26\n",
       "beeradvo_ratebeer           21.08\n",
       "dblp_acm                    25.95\n",
       "dblp_scholar                37.54\n",
       "walmart_amazon              41.60\n",
       "fodors_zagats               56.50\n",
       "itunes_amazon              149.95"
      ]
     },
     "execution_count": 88,
     "metadata": {},
     "output_type": "execute_result"
    }
   ],
   "source": [
    "avg_execution_time = pd.DataFrame(gpt[(gpt.Category==\"Magellan\") & (gpt.models==\"gpt\")].groupby(\"Dataset\")[\"Execution_Time\"].mean().sort_values()).round(2)\n",
    "avg_execution_time"
   ]
  },
  {
   "cell_type": "code",
   "execution_count": 89,
   "metadata": {},
   "outputs": [
    {
     "data": {
      "text/html": [
       "<div>\n",
       "<style scoped>\n",
       "    .dataframe tbody tr th:only-of-type {\n",
       "        vertical-align: middle;\n",
       "    }\n",
       "\n",
       "    .dataframe tbody tr th {\n",
       "        vertical-align: top;\n",
       "    }\n",
       "\n",
       "    .dataframe thead th {\n",
       "        text-align: right;\n",
       "    }\n",
       "</style>\n",
       "<table border=\"1\" class=\"dataframe\">\n",
       "  <thead>\n",
       "    <tr style=\"text-align: right;\">\n",
       "      <th></th>\n",
       "      <th>Execution_Time</th>\n",
       "    </tr>\n",
       "    <tr>\n",
       "      <th>Dataset</th>\n",
       "      <th></th>\n",
       "    </tr>\n",
       "  </thead>\n",
       "  <tbody>\n",
       "    <tr>\n",
       "      <th>amazon_google_exp</th>\n",
       "      <td>15.94</td>\n",
       "    </tr>\n",
       "    <tr>\n",
       "      <th>beeradvo_ratebeer</th>\n",
       "      <td>23.60</td>\n",
       "    </tr>\n",
       "    <tr>\n",
       "      <th>dblp_acm</th>\n",
       "      <td>29.28</td>\n",
       "    </tr>\n",
       "    <tr>\n",
       "      <th>dblp_scholar</th>\n",
       "      <td>29.73</td>\n",
       "    </tr>\n",
       "    <tr>\n",
       "      <th>walmart_amazon</th>\n",
       "      <td>35.87</td>\n",
       "    </tr>\n",
       "    <tr>\n",
       "      <th>fodors_zagats</th>\n",
       "      <td>52.37</td>\n",
       "    </tr>\n",
       "    <tr>\n",
       "      <th>itunes_amazon</th>\n",
       "      <td>124.15</td>\n",
       "    </tr>\n",
       "  </tbody>\n",
       "</table>\n",
       "</div>"
      ],
      "text/plain": [
       "                   Execution_Time\n",
       "Dataset                          \n",
       "amazon_google_exp           15.94\n",
       "beeradvo_ratebeer           23.60\n",
       "dblp_acm                    29.28\n",
       "dblp_scholar                29.73\n",
       "walmart_amazon              35.87\n",
       "fodors_zagats               52.37\n",
       "itunes_amazon              124.15"
      ]
     },
     "execution_count": 89,
     "metadata": {},
     "output_type": "execute_result"
    }
   ],
   "source": [
    "avg_execution_time = pd.DataFrame(llama[(llama.Category==\"Magellan\") & (llama.models==\"gpt\")].groupby(\"Dataset\")[\"Execution_Time\"].mean().sort_values()).round(2)\n",
    "avg_execution_time"
   ]
  },
  {
   "cell_type": "code",
   "execution_count": 81,
   "metadata": {},
   "outputs": [
    {
     "data": {
      "text/plain": [
       "(180.73185886256684, 143.78542717393398)"
      ]
     },
     "execution_count": 81,
     "metadata": {},
     "output_type": "execute_result"
    }
   ],
   "source": [
    "gpt.Execution_Time.mean(),llama.Execution_Time.mean()"
   ]
  },
  {
   "cell_type": "code",
   "execution_count": 82,
   "metadata": {},
   "outputs": [],
   "source": [
    "llama.to_csv(folder_path + \"/Results_Experiments/llama_results/llama_with_time.csv\",index=False)\n",
    "gpt.to_csv(folder_path + \"/Results_Experiments/GPT_results/gpt_with_time.csv\",index=False)"
   ]
  },
  {
   "cell_type": "code",
   "execution_count": null,
   "metadata": {},
   "outputs": [],
   "source": []
  },
  {
   "cell_type": "code",
   "execution_count": null,
   "metadata": {},
   "outputs": [],
   "source": []
  }
 ],
 "metadata": {
  "kernelspec": {
   "display_name": "schema-matching-llama-BMIxpN4W-py3.11",
   "language": "python",
   "name": "python3"
  },
  "language_info": {
   "codemirror_mode": {
    "name": "ipython",
    "version": 3
   },
   "file_extension": ".py",
   "mimetype": "text/x-python",
   "name": "python",
   "nbconvert_exporter": "python",
   "pygments_lexer": "ipython3",
   "version": "3.11.10"
  }
 },
 "nbformat": 4,
 "nbformat_minor": 2
}
