{
 "cells": [
  {
   "cell_type": "code",
   "execution_count": 40,
   "metadata": {},
   "outputs": [],
   "source": [
    "import pandas as pd\n",
    "import os "
   ]
  },
  {
   "cell_type": "code",
   "execution_count": 41,
   "metadata": {},
   "outputs": [],
   "source": [
    "\n",
    "\n",
    "path= os.getcwd().split('/')\n",
    "i=path.index('Alignment-of-schema-only-and-instance-only-data')\n",
    "folder_path= \"/\".join(path[:i+1])\n",
    "\n",
    "llama=pd.read_csv(folder_path+\"/Results_Experiments/llama_results/llama_with_time.csv\")\n",
    "gpt=pd.read_csv(folder_path+\"/Results_Experiments/GPT_results/gpt_with_time.csv\")"
   ]
  },
  {
   "cell_type": "markdown",
   "metadata": {},
   "source": [
    "## GPT"
   ]
  },
  {
   "cell_type": "code",
   "execution_count": 42,
   "metadata": {},
   "outputs": [
    {
     "data": {
      "text/html": [
       "<div>\n",
       "<style scoped>\n",
       "    .dataframe tbody tr th:only-of-type {\n",
       "        vertical-align: middle;\n",
       "    }\n",
       "\n",
       "    .dataframe tbody tr th {\n",
       "        vertical-align: top;\n",
       "    }\n",
       "\n",
       "    .dataframe thead th {\n",
       "        text-align: right;\n",
       "    }\n",
       "</style>\n",
       "<table border=\"1\" class=\"dataframe\">\n",
       "  <thead>\n",
       "    <tr style=\"text-align: right;\">\n",
       "      <th></th>\n",
       "      <th>Execution_Time</th>\n",
       "    </tr>\n",
       "    <tr>\n",
       "      <th>Model</th>\n",
       "      <th></th>\n",
       "    </tr>\n",
       "  </thead>\n",
       "  <tbody>\n",
       "    <tr>\n",
       "      <th>sentence-transformers/all-MiniLM-L6-v2</th>\n",
       "      <td>68.769699</td>\n",
       "    </tr>\n",
       "    <tr>\n",
       "      <th>distilbert-base-uncased</th>\n",
       "      <td>104.649515</td>\n",
       "    </tr>\n",
       "    <tr>\n",
       "      <th>albert-base-v2</th>\n",
       "      <td>150.718493</td>\n",
       "    </tr>\n",
       "    <tr>\n",
       "      <th>bert-base-uncased</th>\n",
       "      <td>151.935367</td>\n",
       "    </tr>\n",
       "    <tr>\n",
       "      <th>roberta-base</th>\n",
       "      <td>174.824698</td>\n",
       "    </tr>\n",
       "    <tr>\n",
       "      <th>gpt</th>\n",
       "      <td>181.505214</td>\n",
       "    </tr>\n",
       "    <tr>\n",
       "      <th>facebook/bart-base</th>\n",
       "      <td>432.639128</td>\n",
       "    </tr>\n",
       "  </tbody>\n",
       "</table>\n",
       "</div>"
      ],
      "text/plain": [
       "                                        Execution_Time\n",
       "Model                                                 \n",
       "sentence-transformers/all-MiniLM-L6-v2       68.769699\n",
       "distilbert-base-uncased                     104.649515\n",
       "albert-base-v2                              150.718493\n",
       "bert-base-uncased                           151.935367\n",
       "roberta-base                                174.824698\n",
       "gpt                                         181.505214\n",
       "facebook/bart-base                          432.639128"
      ]
     },
     "execution_count": 42,
     "metadata": {},
     "output_type": "execute_result"
    }
   ],
   "source": [
    "avg_execution_time = pd.DataFrame(gpt.groupby(\"Model\")[\"Execution_Time\"].mean().sort_values())\n",
    "avg_execution_time"
   ]
  },
  {
   "cell_type": "code",
   "execution_count": 43,
   "metadata": {},
   "outputs": [
    {
     "data": {
      "text/html": [
       "<div>\n",
       "<style scoped>\n",
       "    .dataframe tbody tr th:only-of-type {\n",
       "        vertical-align: middle;\n",
       "    }\n",
       "\n",
       "    .dataframe tbody tr th {\n",
       "        vertical-align: top;\n",
       "    }\n",
       "\n",
       "    .dataframe thead th {\n",
       "        text-align: right;\n",
       "    }\n",
       "</style>\n",
       "<table border=\"1\" class=\"dataframe\">\n",
       "  <thead>\n",
       "    <tr style=\"text-align: right;\">\n",
       "      <th></th>\n",
       "      <th>Execution_Time</th>\n",
       "    </tr>\n",
       "    <tr>\n",
       "      <th>Category</th>\n",
       "      <th></th>\n",
       "    </tr>\n",
       "  </thead>\n",
       "  <tbody>\n",
       "    <tr>\n",
       "      <th>Magellan</th>\n",
       "      <td>116.595704</td>\n",
       "    </tr>\n",
       "    <tr>\n",
       "      <th>TPC-DI</th>\n",
       "      <td>139.836139</td>\n",
       "    </tr>\n",
       "    <tr>\n",
       "      <th>ChEMBL</th>\n",
       "      <td>212.889537</td>\n",
       "    </tr>\n",
       "    <tr>\n",
       "      <th>Wikidata</th>\n",
       "      <td>704.902380</td>\n",
       "    </tr>\n",
       "  </tbody>\n",
       "</table>\n",
       "</div>"
      ],
      "text/plain": [
       "          Execution_Time\n",
       "Category                \n",
       "Magellan      116.595704\n",
       "TPC-DI        139.836139\n",
       "ChEMBL        212.889537\n",
       "Wikidata      704.902380"
      ]
     },
     "execution_count": 43,
     "metadata": {},
     "output_type": "execute_result"
    }
   ],
   "source": [
    "avg_execution_time = pd.DataFrame(gpt.groupby(\"Category\")[\"Execution_Time\"].mean().sort_values())\n",
    "avg_execution_time"
   ]
  },
  {
   "cell_type": "code",
   "execution_count": 44,
   "metadata": {},
   "outputs": [
    {
     "data": {
      "text/html": [
       "<div>\n",
       "<style scoped>\n",
       "    .dataframe tbody tr th:only-of-type {\n",
       "        vertical-align: middle;\n",
       "    }\n",
       "\n",
       "    .dataframe tbody tr th {\n",
       "        vertical-align: top;\n",
       "    }\n",
       "\n",
       "    .dataframe thead th {\n",
       "        text-align: right;\n",
       "    }\n",
       "</style>\n",
       "<table border=\"1\" class=\"dataframe\">\n",
       "  <thead>\n",
       "    <tr style=\"text-align: right;\">\n",
       "      <th></th>\n",
       "      <th>Dataset Name</th>\n",
       "      <th>Execution_Time</th>\n",
       "    </tr>\n",
       "  </thead>\n",
       "  <tbody>\n",
       "    <tr>\n",
       "      <th>1989</th>\n",
       "      <td>fodors_zagats</td>\n",
       "      <td>56.497546</td>\n",
       "    </tr>\n",
       "    <tr>\n",
       "      <th>2014</th>\n",
       "      <td>beeradvo_ratebeer</td>\n",
       "      <td>21.076996</td>\n",
       "    </tr>\n",
       "    <tr>\n",
       "      <th>2021</th>\n",
       "      <td>dblp_acm</td>\n",
       "      <td>25.953537</td>\n",
       "    </tr>\n",
       "    <tr>\n",
       "      <th>2059</th>\n",
       "      <td>walmart_amazon</td>\n",
       "      <td>41.601119</td>\n",
       "    </tr>\n",
       "    <tr>\n",
       "      <th>2096</th>\n",
       "      <td>dblp_scholar</td>\n",
       "      <td>37.537664</td>\n",
       "    </tr>\n",
       "    <tr>\n",
       "      <th>2176</th>\n",
       "      <td>itunes_amazon</td>\n",
       "      <td>149.951336</td>\n",
       "    </tr>\n",
       "    <tr>\n",
       "      <th>2191</th>\n",
       "      <td>amazon_google_exp</td>\n",
       "      <td>13.255035</td>\n",
       "    </tr>\n",
       "  </tbody>\n",
       "</table>\n",
       "</div>"
      ],
      "text/plain": [
       "           Dataset Name  Execution_Time\n",
       "1989      fodors_zagats       56.497546\n",
       "2014  beeradvo_ratebeer       21.076996\n",
       "2021           dblp_acm       25.953537\n",
       "2059     walmart_amazon       41.601119\n",
       "2096       dblp_scholar       37.537664\n",
       "2176      itunes_amazon      149.951336\n",
       "2191  amazon_google_exp       13.255035"
      ]
     },
     "execution_count": 44,
     "metadata": {},
     "output_type": "execute_result"
    }
   ],
   "source": [
    "gpt[(gpt.Category==\"Magellan\") & ((gpt.models==\"gpt\"))][[\"Dataset Name\",\"Execution_Time\"]]"
   ]
  },
  {
   "cell_type": "markdown",
   "metadata": {},
   "source": [
    "## Llama"
   ]
  },
  {
   "cell_type": "code",
   "execution_count": 45,
   "metadata": {},
   "outputs": [
    {
     "data": {
      "text/html": [
       "<div>\n",
       "<style scoped>\n",
       "    .dataframe tbody tr th:only-of-type {\n",
       "        vertical-align: middle;\n",
       "    }\n",
       "\n",
       "    .dataframe tbody tr th {\n",
       "        vertical-align: top;\n",
       "    }\n",
       "\n",
       "    .dataframe thead th {\n",
       "        text-align: right;\n",
       "    }\n",
       "</style>\n",
       "<table border=\"1\" class=\"dataframe\">\n",
       "  <thead>\n",
       "    <tr style=\"text-align: right;\">\n",
       "      <th></th>\n",
       "      <th>Execution_Time</th>\n",
       "    </tr>\n",
       "    <tr>\n",
       "      <th>Model</th>\n",
       "      <th></th>\n",
       "    </tr>\n",
       "  </thead>\n",
       "  <tbody>\n",
       "    <tr>\n",
       "      <th>sentence-transformers/all-MiniLM-L6-v2</th>\n",
       "      <td>68.769699</td>\n",
       "    </tr>\n",
       "    <tr>\n",
       "      <th>distilbert-base-uncased</th>\n",
       "      <td>104.649515</td>\n",
       "    </tr>\n",
       "    <tr>\n",
       "      <th>bert-base-uncased</th>\n",
       "      <td>151.935367</td>\n",
       "    </tr>\n",
       "    <tr>\n",
       "      <th>albert-base-v2</th>\n",
       "      <td>155.890903</td>\n",
       "    </tr>\n",
       "    <tr>\n",
       "      <th>roberta-base</th>\n",
       "      <td>176.372909</td>\n",
       "    </tr>\n",
       "    <tr>\n",
       "      <th>gpt</th>\n",
       "      <td>181.505214</td>\n",
       "    </tr>\n",
       "    <tr>\n",
       "      <th>facebook/bart-base</th>\n",
       "      <td>432.639128</td>\n",
       "    </tr>\n",
       "  </tbody>\n",
       "</table>\n",
       "</div>"
      ],
      "text/plain": [
       "                                        Execution_Time\n",
       "Model                                                 \n",
       "sentence-transformers/all-MiniLM-L6-v2       68.769699\n",
       "distilbert-base-uncased                     104.649515\n",
       "bert-base-uncased                           151.935367\n",
       "albert-base-v2                              155.890903\n",
       "roberta-base                                176.372909\n",
       "gpt                                         181.505214\n",
       "facebook/bart-base                          432.639128"
      ]
     },
     "execution_count": 45,
     "metadata": {},
     "output_type": "execute_result"
    }
   ],
   "source": [
    "avg_execution_time = pd.DataFrame(llama.groupby(\"Model\")[\"Execution_Time\"].mean().sort_values())\n",
    "avg_execution_time"
   ]
  },
  {
   "cell_type": "code",
   "execution_count": 46,
   "metadata": {},
   "outputs": [
    {
     "data": {
      "text/html": [
       "<div>\n",
       "<style scoped>\n",
       "    .dataframe tbody tr th:only-of-type {\n",
       "        vertical-align: middle;\n",
       "    }\n",
       "\n",
       "    .dataframe tbody tr th {\n",
       "        vertical-align: top;\n",
       "    }\n",
       "\n",
       "    .dataframe thead th {\n",
       "        text-align: right;\n",
       "    }\n",
       "</style>\n",
       "<table border=\"1\" class=\"dataframe\">\n",
       "  <thead>\n",
       "    <tr style=\"text-align: right;\">\n",
       "      <th></th>\n",
       "      <th>Execution_Time</th>\n",
       "    </tr>\n",
       "    <tr>\n",
       "      <th>Category</th>\n",
       "      <th></th>\n",
       "    </tr>\n",
       "  </thead>\n",
       "  <tbody>\n",
       "    <tr>\n",
       "      <th>Magellan</th>\n",
       "      <td>116.595704</td>\n",
       "    </tr>\n",
       "    <tr>\n",
       "      <th>TPC-DI</th>\n",
       "      <td>139.996878</td>\n",
       "    </tr>\n",
       "    <tr>\n",
       "      <th>ChEMBL</th>\n",
       "      <td>212.982757</td>\n",
       "    </tr>\n",
       "    <tr>\n",
       "      <th>Wikidata</th>\n",
       "      <td>753.644535</td>\n",
       "    </tr>\n",
       "  </tbody>\n",
       "</table>\n",
       "</div>"
      ],
      "text/plain": [
       "          Execution_Time\n",
       "Category                \n",
       "Magellan      116.595704\n",
       "TPC-DI        139.996878\n",
       "ChEMBL        212.982757\n",
       "Wikidata      753.644535"
      ]
     },
     "execution_count": 46,
     "metadata": {},
     "output_type": "execute_result"
    }
   ],
   "source": [
    "avg_execution_time = pd.DataFrame(llama.groupby(\"Category\")[\"Execution_Time\"].mean().sort_values())\n",
    "avg_execution_time"
   ]
  },
  {
   "cell_type": "code",
   "execution_count": 47,
   "metadata": {},
   "outputs": [
    {
     "data": {
      "text/plain": [
       "(181.69884782541297, 180.73185886256684)"
      ]
     },
     "execution_count": 47,
     "metadata": {},
     "output_type": "execute_result"
    }
   ],
   "source": [
    "llama.Execution_Time.mean(),gpt.Execution_Time.mean()"
   ]
  },
  {
   "cell_type": "code",
   "execution_count": null,
   "metadata": {},
   "outputs": [],
   "source": []
  }
 ],
 "metadata": {
  "kernelspec": {
   "display_name": "schema-matching-llama-BMIxpN4W-py3.11",
   "language": "python",
   "name": "python3"
  },
  "language_info": {
   "codemirror_mode": {
    "name": "ipython",
    "version": 3
   },
   "file_extension": ".py",
   "mimetype": "text/x-python",
   "name": "python",
   "nbconvert_exporter": "python",
   "pygments_lexer": "ipython3",
   "version": "3.11.10"
  }
 },
 "nbformat": 4,
 "nbformat_minor": 2
}
